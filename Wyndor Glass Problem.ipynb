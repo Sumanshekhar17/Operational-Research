{
 "cells": [
  {
   "cell_type": "code",
   "execution_count": 1,
   "id": "796477b2-2b2e-45b1-9938-59c24fe8bd64",
   "metadata": {},
   "outputs": [],
   "source": [
    "import pulp as plp"
   ]
  },
  {
   "cell_type": "code",
   "execution_count": 3,
   "id": "e57c429d-0b93-4a0d-a006-d2fd64d200b8",
   "metadata": {},
   "outputs": [],
   "source": [
    "D = plp.LpVariable('D',lowBound=0)\n",
    "S = plp.LpVariable('S',lowBound=0)"
   ]
  },
  {
   "cell_type": "code",
   "execution_count": 4,
   "id": "ebb1d747-17d5-4922-8cd9-46e843eda4eb",
   "metadata": {},
   "outputs": [],
   "source": [
    "profit = plp.LpProblem('Maximum_profit', plp.LpMaximize)"
   ]
  },
  {
   "cell_type": "code",
   "execution_count": 5,
   "id": "f4db3cdf-3035-4381-bcbc-b89d972c8818",
   "metadata": {},
   "outputs": [],
   "source": [
    "profit += 10*S + 9*D , 'objective function'\n",
    "profit += 7/10*S + D <= 630 , 'constraint for cutting and Dying'\n",
    "profit += 1/2*S + 5/6*D <= 600, 'constraint for sweing'\n",
    "profit += S + 2/3*D <= 708, 'constraint for fueling'\n",
    "profit += 1/10*S + 1/4*D <= 135, 'costraint for I&P'"
   ]
  },
  {
   "cell_type": "code",
   "execution_count": 6,
   "id": "fdb8394c-c3b3-4eba-9e92-f34b4e0df1ee",
   "metadata": {},
   "outputs": [
    {
     "data": {
      "text/plain": [
       "1"
      ]
     },
     "execution_count": 6,
     "metadata": {},
     "output_type": "execute_result"
    }
   ],
   "source": [
    "profit.solve()"
   ]
  },
  {
   "cell_type": "code",
   "execution_count": 7,
   "id": "4a08fc88-3c78-489a-8152-08d152ae7f62",
   "metadata": {},
   "outputs": [
    {
     "name": "stdout",
     "output_type": "stream",
     "text": [
      "Decision Variable Value\n",
      "D = 252.0\n",
      "S = 540.0\n"
     ]
    }
   ],
   "source": [
    "print('Decision Variable Value')\n",
    "for variable in profit.variables():\n",
    "    print(variable.name,'=',variable.varValue)"
   ]
  },
  {
   "cell_type": "markdown",
   "id": "cebdbc2a-4bf1-4fb0-8447-21c3a67a207b",
   "metadata": {},
   "source": [
    "## Wyndor Glass Problem"
   ]
  },
  {
   "cell_type": "code",
   "execution_count": 8,
   "id": "d7d84827-9316-4ad8-bc05-1dd02264b7f7",
   "metadata": {},
   "outputs": [],
   "source": [
    "S = plp.LpVariable('S',upBound = 4, lowBound=0)\n",
    "D = plp.LpVariable('D',upBound = 6, lowBound=0)"
   ]
  },
  {
   "cell_type": "markdown",
   "id": "3249100b-b4be-482a-a762-ead03432a22a",
   "metadata": {},
   "source": [
    "**Objective Function**"
   ]
  },
  {
   "cell_type": "code",
   "execution_count": 9,
   "id": "68c6f685-dd3f-4399-bdb1-be7e5f948425",
   "metadata": {},
   "outputs": [],
   "source": [
    "Z = plp.LpProblem('Maximum_profit', plp.LpMaximize)\n",
    "Z += 3000*S + 5000*D , 'objective function'"
   ]
  },
  {
   "cell_type": "markdown",
   "id": "74d38f29-0d6d-4a1f-97a4-ae562f950a46",
   "metadata": {},
   "source": [
    "**Defining Constraints**"
   ]
  },
  {
   "cell_type": "code",
   "execution_count": 10,
   "id": "ab75ce64-cb23-4170-b085-afc3a10b78f3",
   "metadata": {},
   "outputs": [],
   "source": [
    "Z += 3*S + 2*D <= 18, 'Constrain on production house'"
   ]
  },
  {
   "cell_type": "markdown",
   "id": "501084e8-e5a5-4ad8-b3d8-9c6aeb940e1f",
   "metadata": {},
   "source": [
    "**Optimizing the problem**"
   ]
  },
  {
   "cell_type": "code",
   "execution_count": 11,
   "id": "a20bdb41-56e5-4866-b31a-1ef6f273a6a2",
   "metadata": {},
   "outputs": [
    {
     "data": {
      "text/plain": [
       "1"
      ]
     },
     "execution_count": 11,
     "metadata": {},
     "output_type": "execute_result"
    }
   ],
   "source": [
    "Z.solve()"
   ]
  },
  {
   "cell_type": "code",
   "execution_count": 12,
   "id": "fe080633-a243-4f25-93ec-07db2a830890",
   "metadata": {},
   "outputs": [
    {
     "name": "stdout",
     "output_type": "stream",
     "text": [
      "Decision Variable Value\n",
      "D = 6.0\n",
      "S = 2.0\n"
     ]
    }
   ],
   "source": [
    "print('Decision Variable Value')\n",
    "for variable in Z.variables():\n",
    "    print(variable.name,'=',variable.varValue)"
   ]
  }
 ],
 "metadata": {
  "kernelspec": {
   "display_name": "Python 3",
   "language": "python",
   "name": "python3"
  },
  "language_info": {
   "codemirror_mode": {
    "name": "ipython",
    "version": 3
   },
   "file_extension": ".py",
   "mimetype": "text/x-python",
   "name": "python",
   "nbconvert_exporter": "python",
   "pygments_lexer": "ipython3",
   "version": "3.8.8"
  },
  "widgets": {
   "application/vnd.jupyter.widget-state+json": {
    "state": {},
    "version_major": 2,
    "version_minor": 0
   }
  }
 },
 "nbformat": 4,
 "nbformat_minor": 5
}
