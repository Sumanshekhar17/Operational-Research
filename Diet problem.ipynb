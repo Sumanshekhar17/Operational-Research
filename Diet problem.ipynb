{
 "cells": [
  {
   "cell_type": "code",
   "execution_count": 1,
   "id": "ff85b43b-0101-43cc-99af-e5686c855f5d",
   "metadata": {},
   "outputs": [],
   "source": [
    "import gurobipy as gp\n",
    "from gurobipy import GRB"
   ]
  },
  {
   "cell_type": "code",
   "execution_count": 2,
   "id": "4ec5430b-148f-4dbc-a0d0-ce74b0e607dc",
   "metadata": {},
   "outputs": [],
   "source": [
    "categories, minNutrition, maxNutrition = gp.multidict({\n",
    "    'protein':  [800, GRB.INFINITY],\n",
    "    'fat':      [200, GRB.INFINITY],\n",
    "    'Carbohydrate':   [700, GRB.INFINITY]})"
   ]
  },
  {
   "cell_type": "code",
   "execution_count": 3,
   "id": "44560dba-de0a-4d12-bcf6-efb0672b9d8b",
   "metadata": {},
   "outputs": [],
   "source": [
    "foods, cost = gp.multidict({\n",
    "    'FOOD_1': 45,\n",
    "    'FOOD_2':   40,\n",
    "    'FOOD_3':   85,\n",
    "    'FOOD_4':   65 })\n",
    "#     'macaroni':  2.09,\n",
    "#     'pizza':     1.99,\n",
    "#     'salad':     2.49,\n",
    "#     'milk':      0.89,})"
   ]
  },
  {
   "cell_type": "code",
   "execution_count": 4,
   "id": "ff782d6b-e6b1-4388-975c-9ff6e895c462",
   "metadata": {},
   "outputs": [],
   "source": [
    "# Nutrition values for the foods\n",
    "nutritionValues = {\n",
    "    ('FOOD_1', 'protein'): 3,\n",
    "    ('FOOD_1', 'fat'):  2,\n",
    "    ('FOOD_1', 'Carbohydrate'): 6,\n",
    "    \n",
    "    ('FOOD_2',   'protein'): 4,\n",
    "    ('FOOD_2',   'fat'):  2,\n",
    "    ('FOOD_2',   'Carbohydrate'): 4,\n",
    "    \n",
    "    ('FOOD_3',   'protein'): 8,\n",
    "    ('FOOD_3',   'fat'):  7,\n",
    "    ('FOOD_3',   'Carbohydrate'): 7,\n",
    "    \n",
    "    ('FOOD_4',   'protein'): 6,\n",
    "    ('FOOD_4',   'fat'):  5,\n",
    "    ('FOOD_4',   'Carbohydrate'): 4,\n",
    "}\n"
   ]
  },
  {
   "cell_type": "code",
   "execution_count": 5,
   "id": "cb0984e9-6494-4cad-95ca-39a1a1108056",
   "metadata": {},
   "outputs": [
    {
     "name": "stdout",
     "output_type": "stream",
     "text": [
      "Restricted license - for non-production use only - expires 2022-01-13\n"
     ]
    }
   ],
   "source": [
    "# Model\n",
    "m = gp.Model(\"diet\")"
   ]
  },
  {
   "cell_type": "code",
   "execution_count": 6,
   "id": "a1036418-67ec-4624-b2f0-e0a16b8d22ad",
   "metadata": {},
   "outputs": [],
   "source": [
    "buy = m.addVars(foods, name=\"buy\")"
   ]
  },
  {
   "cell_type": "code",
   "execution_count": 7,
   "id": "a4ba6b97-578e-4601-b35d-ab8b8a97d334",
   "metadata": {},
   "outputs": [
    {
     "data": {
      "text/plain": [
       "{'FOOD_1': <gurobi.Var *Awaiting Model Update*>,\n",
       " 'FOOD_2': <gurobi.Var *Awaiting Model Update*>,\n",
       " 'FOOD_3': <gurobi.Var *Awaiting Model Update*>,\n",
       " 'FOOD_4': <gurobi.Var *Awaiting Model Update*>}"
      ]
     },
     "execution_count": 7,
     "metadata": {},
     "output_type": "execute_result"
    }
   ],
   "source": [
    "buy"
   ]
  },
  {
   "cell_type": "code",
   "execution_count": 8,
   "id": "614372c2-d091-4a12-8f9b-10acbe2135b7",
   "metadata": {},
   "outputs": [],
   "source": [
    "# The objective is to minimize the costs\n",
    "m.setObjective(buy.prod(cost), GRB.MINIMIZE)\n"
   ]
  },
  {
   "cell_type": "code",
   "execution_count": 9,
   "id": "d1325a75-041b-45e6-b6ce-ff36af65533e",
   "metadata": {},
   "outputs": [
    {
     "data": {
      "text/plain": [
       "{'protein': <gurobi.Constr *Awaiting Model Update*>,\n",
       " 'fat': <gurobi.Constr *Awaiting Model Update*>,\n",
       " 'Carbohydrate': <gurobi.Constr *Awaiting Model Update*>}"
      ]
     },
     "execution_count": 9,
     "metadata": {},
     "output_type": "execute_result"
    }
   ],
   "source": [
    "# Nutrition constraints\n",
    "m.addConstrs((gp.quicksum(nutritionValues[f, c] * buy[f] for f in foods)\n",
    "             == [minNutrition[c], maxNutrition[c]]\n",
    "             for c in categories), \"_\")"
   ]
  },
  {
   "cell_type": "code",
   "execution_count": 10,
   "id": "1e988beb-7fe8-445c-ba10-2f9208ffd6a7",
   "metadata": {},
   "outputs": [
    {
     "name": "stdout",
     "output_type": "stream",
     "text": [
      "Gurobi Optimizer version 9.1.2 build v9.1.2rc0 (win64)\n",
      "Thread count: 4 physical cores, 8 logical processors, using up to 8 threads\n",
      "Optimize a model with 3 rows, 4 columns and 12 nonzeros\n",
      "Model fingerprint: 0x4b725178\n",
      "Coefficient statistics:\n",
      "  Matrix range     [2e+00, 8e+00]\n",
      "  Objective range  [4e+01, 9e+01]\n",
      "  Bounds range     [0e+00, 0e+00]\n",
      "  RHS range        [2e+02, 8e+02]\n",
      "Presolve time: 0.01s\n",
      "Presolved: 3 rows, 4 columns, 12 nonzeros\n",
      "\n",
      "Iteration    Objective       Primal Inf.    Dual Inf.      Time\n",
      "       0    0.0000000e+00   2.125000e+02   0.000000e+00      0s\n",
      "       1    8.0000000e+03   0.000000e+00   0.000000e+00      0s\n",
      "\n",
      "Solved in 1 iterations and 0.01 seconds\n",
      "Optimal objective  8.000000000e+03\n",
      "\n",
      "Cost: 8000\n",
      "\n",
      "Buy:\n",
      "FOOD_2 200\n"
     ]
    }
   ],
   "source": [
    "def printSolution():\n",
    "    if m.status == GRB.OPTIMAL:\n",
    "        print('\\nCost: %g' % m.objVal)\n",
    "        print('\\nBuy:')\n",
    "        for f in foods:\n",
    "            if buy[f].x > 0.0001:\n",
    "                print('%s %g' % (f, buy[f].x))\n",
    "    else:\n",
    "        print('No solution')\n",
    "\n",
    "\n",
    "# Solve\n",
    "m.optimize()\n",
    "printSolution()"
   ]
  },
  {
   "cell_type": "code",
   "execution_count": null,
   "id": "3cac83a4-076f-478c-8333-c9ff8ccf922a",
   "metadata": {},
   "outputs": [],
   "source": []
  }
 ],
 "metadata": {
  "kernelspec": {
   "display_name": "Python 3",
   "language": "python",
   "name": "python3"
  },
  "language_info": {
   "codemirror_mode": {
    "name": "ipython",
    "version": 3
   },
   "file_extension": ".py",
   "mimetype": "text/x-python",
   "name": "python",
   "nbconvert_exporter": "python",
   "pygments_lexer": "ipython3",
   "version": "3.8.8"
  },
  "widgets": {
   "application/vnd.jupyter.widget-state+json": {
    "state": {},
    "version_major": 2,
    "version_minor": 0
   }
  }
 },
 "nbformat": 4,
 "nbformat_minor": 5
}
