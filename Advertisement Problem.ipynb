{
 "cells": [
  {
   "cell_type": "code",
   "execution_count": 1,
   "id": "8dec4188-1366-4a75-8434-10c3ce205ef1",
   "metadata": {},
   "outputs": [],
   "source": [
    "import pulp as plp"
   ]
  },
  {
   "cell_type": "code",
   "execution_count": 3,
   "id": "30e05660-9192-4cd4-820b-529b63d8c3d8",
   "metadata": {},
   "outputs": [],
   "source": [
    "X1 = plp.LpVariable('TV',lowBound=5, upBound=10)\n",
    "X2 = plp.LpVariable('Radio',lowBound=5, upBound=10)\n",
    "X3 = plp.LpVariable('Magzine_1',lowBound=3)\n",
    "X4 = plp.LpVariable('Magzine_2',lowBound=2)"
   ]
  },
  {
   "cell_type": "code",
   "execution_count": 4,
   "id": "a7004494-a900-417e-8911-16be9964225a",
   "metadata": {},
   "outputs": [],
   "source": [
    "Reach = plp.LpProblem('Maximum_Customers_reach', plp.LpMaximize)"
   ]
  },
  {
   "cell_type": "code",
   "execution_count": 5,
   "id": "1e6fb378-ec33-4280-a23b-2c833cf4b073",
   "metadata": {},
   "outputs": [],
   "source": [
    "Reach += 2*X1 + 6*X2 + 1.5*X3 + X4 , 'objective function'"
   ]
  },
  {
   "cell_type": "code",
   "execution_count": 6,
   "id": "66855274-c3d6-45e7-80a6-0300fd273cb0",
   "metadata": {},
   "outputs": [],
   "source": [
    "Reach += 0.3*X1 + 0.2*X2 + 0.15*X3 + 0.1*X4 <= 4.5"
   ]
  },
  {
   "cell_type": "code",
   "execution_count": 7,
   "id": "296aa190-3436-4e16-a785-a785eef4ff56",
   "metadata": {},
   "outputs": [],
   "source": [
    "Reach += 1.5*X1 + 4*X2 + 0.7*X3 + 0.5*X4 >= 10"
   ]
  },
  {
   "cell_type": "code",
   "execution_count": 8,
   "id": "3f449122-c7be-4ee7-9ebf-825c3c82d0ca",
   "metadata": {},
   "outputs": [],
   "source": [
    "Reach += 0.15*X3 + 0.1*X4 <= 1.5"
   ]
  },
  {
   "cell_type": "code",
   "execution_count": 9,
   "id": "59dc1bbb-94c9-4d7f-9bbf-6ecb27a484a4",
   "metadata": {},
   "outputs": [
    {
     "data": {
      "text/plain": [
       "1"
      ]
     },
     "execution_count": 9,
     "metadata": {},
     "output_type": "execute_result"
    }
   ],
   "source": [
    "Reach.solve()"
   ]
  },
  {
   "cell_type": "code",
   "execution_count": 10,
   "id": "ec739177-4e48-4ab2-b38d-17c78a251d80",
   "metadata": {},
   "outputs": [
    {
     "name": "stdout",
     "output_type": "stream",
     "text": [
      "Decision Variable Value\n",
      "Magzine_1 = 3.0\n",
      "Magzine_2 = 5.5\n",
      "Radio = 10.0\n",
      "TV = 5.0\n"
     ]
    }
   ],
   "source": [
    "print('Decision Variable Value')\n",
    "for variable in Reach.variables():\n",
    "    print(variable.name,'=',variable.varValue)"
   ]
  },
  {
   "cell_type": "code",
   "execution_count": null,
   "id": "e391c8a0-25fc-4f12-91ba-8eb2a244da23",
   "metadata": {},
   "outputs": [],
   "source": []
  }
 ],
 "metadata": {
  "kernelspec": {
   "display_name": "Python 3",
   "language": "python",
   "name": "python3"
  },
  "language_info": {
   "codemirror_mode": {
    "name": "ipython",
    "version": 3
   },
   "file_extension": ".py",
   "mimetype": "text/x-python",
   "name": "python",
   "nbconvert_exporter": "python",
   "pygments_lexer": "ipython3",
   "version": "3.8.8"
  },
  "widgets": {
   "application/vnd.jupyter.widget-state+json": {
    "state": {},
    "version_major": 2,
    "version_minor": 0
   }
  }
 },
 "nbformat": 4,
 "nbformat_minor": 5
}
